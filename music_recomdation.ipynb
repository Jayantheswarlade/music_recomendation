{
 "cells": [
  {
   "cell_type": "code",
   "execution_count": 1,
   "id": "6e8cfa27",
   "metadata": {},
   "outputs": [],
   "source": [
    "import numpy as np\n",
    "import pandas as pd\n",
    "import matplotlib.pyplot as plt\n",
    "import seaborn as sb\n",
    "\n",
    "from sklearn.metrics.pairwise import cosine_similarity\n",
    "from sklearn.feature_extraction.text import CountVectorizer\n",
    "from sklearn.manifold import TSNE\n",
    "\n",
    "import warnings\n",
    "warnings.filterwarnings('ignore')\n"
   ]
  },
  {
   "cell_type": "code",
   "execution_count": null,
   "id": "c8cda55d",
   "metadata": {},
   "outputs": [],
   "source": [
    "tracks = pd.read_csv('tracks_records.csv')\n",
    "tracks.head()\n"
   ]
  },
  {
   "cell_type": "code",
   "execution_count": null,
   "id": "61f57f6d",
   "metadata": {},
   "outputs": [],
   "source": [
    "tracks.shape\n"
   ]
  },
  {
   "cell_type": "code",
   "execution_count": null,
   "id": "1342cc08",
   "metadata": {},
   "outputs": [],
   "source": [
    "tracks.info()\n"
   ]
  },
  {
   "cell_type": "code",
   "execution_count": null,
   "id": "82456e58",
   "metadata": {},
   "outputs": [],
   "source": [
    "tracks.isnull().sum()\n"
   ]
  },
  {
   "cell_type": "code",
   "execution_count": null,
   "id": "57f3bbff",
   "metadata": {},
   "outputs": [],
   "source": [
    "tracks.dropna(inplace = True)\n",
    "tracks.isnull().sum().plot.bar()\n",
    "plt.show()\n"
   ]
  },
  {
   "cell_type": "code",
   "execution_count": null,
   "id": "f5d02d5d",
   "metadata": {},
   "outputs": [],
   "source": [
    "tracks = tracks.drop(['id', 'id_artists'], axis = 1)"
   ]
  },
  {
   "cell_type": "code",
   "execution_count": null,
   "id": "f165e57c",
   "metadata": {},
   "outputs": [],
   "source": [
    "model = TSNE(n_components = 2, random_state = 0)\n",
    "tsne_data = model.fit_transform(a.head(500))\n",
    "plt.figure(figsize = (7, 7))\n",
    "plt.scatter(tsne_data[:,0], tsne_data[:,1])\n",
    "plt.show()\n"
   ]
  },
  {
   "cell_type": "code",
   "execution_count": null,
   "id": "0aa4deba",
   "metadata": {},
   "outputs": [],
   "source": [
    "tracks['name'].nunique(), tracks.shape\n"
   ]
  },
  {
   "cell_type": "code",
   "execution_count": null,
   "id": "c5badee3",
   "metadata": {},
   "outputs": [],
   "source": [
    "tracks = tracks.sort_values(by=['popularity'], ascending=False)\n",
    "tracks.drop_duplicates(subset=['name'], keep='first', inplace=True)\n"
   ]
  },
  {
   "cell_type": "code",
   "execution_count": null,
   "id": "6766f70e",
   "metadata": {},
   "outputs": [],
   "source": [
    "plt.figure(figsize = (10, 5))\n",
    "sb.countplot(tracks['release_year'])\n",
    "plt.axis('off')\n",
    "plt.show()\n"
   ]
  },
  {
   "cell_type": "code",
   "execution_count": null,
   "id": "7a608f1f",
   "metadata": {},
   "outputs": [],
   "source": [
    "floats = []\n",
    "for col in tracks.columns:\n",
    "if tracks[col].dtype == 'float':\n",
    "\tfloats.append(col)\n",
    "\n",
    "len(floats)\n"
   ]
  },
  {
   "cell_type": "code",
   "execution_count": null,
   "id": "c8720900",
   "metadata": {},
   "outputs": [],
   "source": [
    "plt.subplots(figsize = (15, 5))\n",
    "for i, col in enumerate(floats):\n",
    "plt.subplot(2, 5, i + 1)\n",
    "sb.distplot(tracks[col])\n",
    "plt.tight_layout()\n",
    "plt.show()\n"
   ]
  },
  {
   "cell_type": "code",
   "execution_count": null,
   "id": "f8bb27dd",
   "metadata": {},
   "outputs": [],
   "source": [
    "%%capture\n",
    "song_vectorizer = CountVectorizer()\n",
    "song_vectorizer.fit(tracks['genres'])\n"
   ]
  },
  {
   "cell_type": "code",
   "execution_count": null,
   "id": "3cf0b604",
   "metadata": {},
   "outputs": [],
   "source": [
    "tracks = tracks.sort_values(by=['popularity'], ascending=False).head(10000)\n"
   ]
  },
  {
   "cell_type": "code",
   "execution_count": null,
   "id": "f76cbd43",
   "metadata": {},
   "outputs": [],
   "source": [
    "def get_similarities(song_name, data):\n",
    "\n",
    "# Getting vector for the input song.\n",
    "text_array1 = song_vectorizer.transform(data[data['name']==song_name]['genres']).toarray()\n",
    "num_array1 = data[data['name']==song_name].select_dtypes(include=np.number).to_numpy()\n",
    "\n",
    "# We will store similarity for each row of the dataset.\n",
    "sim = []\n",
    "for idx, row in data.iterrows():\n",
    "\tname = row['name']\n",
    "\t\n",
    "\t# Getting vector for current song.\n",
    "\ttext_array2 = song_vectorizer.transform(data[data['name']==name]['genres']).toarray()\n",
    "\tnum_array2 = data[data['name']==name].select_dtypes(include=np.number).to_numpy()\n",
    "\n",
    "\t# Calculating similarities for text as well as numeric features\n",
    "\ttext_sim = cosine_similarity(text_array1, text_array2)[0][0]\n",
    "\tnum_sim = cosine_similarity(num_array1, num_array2)[0][0]\n",
    "\tsim.append(text_sim + num_sim)\n",
    "\t\n",
    "return sim\n"
   ]
  },
  {
   "cell_type": "code",
   "execution_count": null,
   "id": "424b8f13",
   "metadata": {},
   "outputs": [],
   "source": [
    "def recommend_songs(song_name, data=tracks):\n",
    "# Base case\n",
    "if tracks[tracks['name'] == song_name].shape[0] == 0:\n",
    "\tprint('This song is either not so popular or you\\\n",
    "\thave entered invalid_name.\\n Some songs you may like:\\n')\n",
    "\t\n",
    "\tfor song in data.sample(n=5)['name'].values:\n",
    "\tprint(song)\n",
    "\treturn\n",
    "\n",
    "data['similarity_factor'] = get_similarities(song_name, data)\n",
    "\n",
    "data.sort_values(by=['similarity_factor', 'popularity'],\n",
    "\t\t\t\tascending = [False, False],\n",
    "\t\t\t\tinplace=True)\n",
    "\n",
    "# First song will be the input song itself as the similarity will be highest.\n",
    "display(data[['name', 'artists']][2:7])\n"
   ]
  },
  {
   "cell_type": "code",
   "execution_count": null,
   "id": "d360d09a",
   "metadata": {},
   "outputs": [],
   "source": [
    "recommend_songs('Shape of You')\n",
    "recommend_songs('Love Someone')\n",
    "recommend_songs('Love me like you do')"
   ]
  }
 ],
 "metadata": {
  "kernelspec": {
   "display_name": "Python 3 (ipykernel)",
   "language": "python",
   "name": "python3"
  },
  "language_info": {
   "codemirror_mode": {
    "name": "ipython",
    "version": 3
   },
   "file_extension": ".py",
   "mimetype": "text/x-python",
   "name": "python",
   "nbconvert_exporter": "python",
   "pygments_lexer": "ipython3",
   "version": "3.11.5"
  }
 },
 "nbformat": 4,
 "nbformat_minor": 5
}
